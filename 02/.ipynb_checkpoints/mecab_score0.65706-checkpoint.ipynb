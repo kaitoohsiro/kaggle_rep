{
 "cells": [
  {
   "cell_type": "code",
   "execution_count": 39,
   "id": "80f9073f",
   "metadata": {},
   "outputs": [],
   "source": [
    "import MeCab\n",
    "import math"
   ]
  },
  {
   "cell_type": "code",
   "execution_count": 5,
   "id": "4d1e275f",
   "metadata": {},
   "outputs": [
    {
     "name": "stdout",
     "output_type": "stream",
     "text": [
      "['私', 'は', '猫', 'が', '好き', 'です']\n"
     ]
    }
   ],
   "source": [
    "wakati=MeCab.Tagger(\"-Owakati\")\n",
    "sentence_wakati = wakati.parse(\"私は猫が好きです\").split()\n",
    "print(sentence_wakati)"
   ]
  },
  {
   "cell_type": "code",
   "execution_count": 4,
   "id": "65ef7688",
   "metadata": {},
   "outputs": [
    {
     "name": "stdout",
     "output_type": "stream",
     "text": [
      "['私', 'ワタシ', '私', '名詞-代名詞-一般', 'は', 'ハ', 'は', '助詞-係助詞', '猫', 'ネコ', '猫', '名詞-一般', 'が', 'ガ', 'が', '助詞-格助詞-一般', '好き', 'スキ', '好き', '名詞-形容動詞語幹', 'です', 'デス', 'です', '助動詞', '特殊・デス', '基本形', 'EOS']\n"
     ]
    }
   ],
   "source": [
    "wakati=MeCab.Tagger(\"-Ochasen\")\n",
    "sentence_wakati = wakati.parse(\"私は猫が好きです\").split()\n",
    "print(sentence_wakati)"
   ]
  },
  {
   "cell_type": "code",
   "execution_count": 6,
   "id": "f8548853",
   "metadata": {},
   "outputs": [],
   "source": [
    "import pandas as pd\n",
    "import matplotlib.pyplot as plt\n",
    "import seaborn as sns\n",
    "%matplotlib inline"
   ]
  },
  {
   "cell_type": "code",
   "execution_count": 7,
   "id": "59aab106",
   "metadata": {},
   "outputs": [],
   "source": [
    "train_data = pd.read_csv(\"./data/train.csv\")"
   ]
  },
  {
   "cell_type": "code",
   "execution_count": 8,
   "id": "9ec917dc",
   "metadata": {},
   "outputs": [
    {
     "data": {
      "text/html": [
       "<div>\n",
       "<style scoped>\n",
       "    .dataframe tbody tr th:only-of-type {\n",
       "        vertical-align: middle;\n",
       "    }\n",
       "\n",
       "    .dataframe tbody tr th {\n",
       "        vertical-align: top;\n",
       "    }\n",
       "\n",
       "    .dataframe thead th {\n",
       "        text-align: right;\n",
       "    }\n",
       "</style>\n",
       "<table border=\"1\" class=\"dataframe\">\n",
       "  <thead>\n",
       "    <tr style=\"text-align: right;\">\n",
       "      <th></th>\n",
       "      <th>id</th>\n",
       "      <th>keyword</th>\n",
       "      <th>location</th>\n",
       "      <th>text</th>\n",
       "      <th>target</th>\n",
       "    </tr>\n",
       "  </thead>\n",
       "  <tbody>\n",
       "    <tr>\n",
       "      <th>0</th>\n",
       "      <td>1</td>\n",
       "      <td>NaN</td>\n",
       "      <td>NaN</td>\n",
       "      <td>Our Deeds are the Reason of this #earthquake M...</td>\n",
       "      <td>1</td>\n",
       "    </tr>\n",
       "    <tr>\n",
       "      <th>1</th>\n",
       "      <td>4</td>\n",
       "      <td>NaN</td>\n",
       "      <td>NaN</td>\n",
       "      <td>Forest fire near La Ronge Sask. Canada</td>\n",
       "      <td>1</td>\n",
       "    </tr>\n",
       "    <tr>\n",
       "      <th>2</th>\n",
       "      <td>5</td>\n",
       "      <td>NaN</td>\n",
       "      <td>NaN</td>\n",
       "      <td>All residents asked to 'shelter in place' are ...</td>\n",
       "      <td>1</td>\n",
       "    </tr>\n",
       "    <tr>\n",
       "      <th>3</th>\n",
       "      <td>6</td>\n",
       "      <td>NaN</td>\n",
       "      <td>NaN</td>\n",
       "      <td>13,000 people receive #wildfires evacuation or...</td>\n",
       "      <td>1</td>\n",
       "    </tr>\n",
       "    <tr>\n",
       "      <th>4</th>\n",
       "      <td>7</td>\n",
       "      <td>NaN</td>\n",
       "      <td>NaN</td>\n",
       "      <td>Just got sent this photo from Ruby #Alaska as ...</td>\n",
       "      <td>1</td>\n",
       "    </tr>\n",
       "  </tbody>\n",
       "</table>\n",
       "</div>"
      ],
      "text/plain": [
       "   id keyword location                                               text  \\\n",
       "0   1     NaN      NaN  Our Deeds are the Reason of this #earthquake M...   \n",
       "1   4     NaN      NaN             Forest fire near La Ronge Sask. Canada   \n",
       "2   5     NaN      NaN  All residents asked to 'shelter in place' are ...   \n",
       "3   6     NaN      NaN  13,000 people receive #wildfires evacuation or...   \n",
       "4   7     NaN      NaN  Just got sent this photo from Ruby #Alaska as ...   \n",
       "\n",
       "   target  \n",
       "0       1  \n",
       "1       1  \n",
       "2       1  \n",
       "3       1  \n",
       "4       1  "
      ]
     },
     "execution_count": 8,
     "metadata": {},
     "output_type": "execute_result"
    }
   ],
   "source": [
    "train_data.head()\n"
   ]
  },
  {
   "cell_type": "code",
   "execution_count": 9,
   "id": "c2d1ec92",
   "metadata": {},
   "outputs": [
    {
     "data": {
      "text/plain": [
       "id             0\n",
       "keyword       61\n",
       "location    2533\n",
       "text           0\n",
       "target         0\n",
       "dtype: int64"
      ]
     },
     "execution_count": 9,
     "metadata": {},
     "output_type": "execute_result"
    }
   ],
   "source": [
    "train_data.isnull().sum()"
   ]
  },
  {
   "cell_type": "code",
   "execution_count": 11,
   "id": "625ee220",
   "metadata": {},
   "outputs": [],
   "source": [
    "xi, yi = train_data.shape"
   ]
  },
  {
   "cell_type": "code",
   "execution_count": 31,
   "id": "918b9907",
   "metadata": {},
   "outputs": [
    {
     "name": "stdout",
     "output_type": "stream",
     "text": [
      "xi: 行数:7613\n",
      "yi: 列数:5\n"
     ]
    }
   ],
   "source": [
    "print(\"xi: 行数:{}\".format(xi))\n",
    "print(\"yi: 列数:{}\".format(yi))"
   ]
  },
  {
   "cell_type": "code",
   "execution_count": 42,
   "id": "be5a2369",
   "metadata": {},
   "outputs": [],
   "source": [
    "w_list = []\n",
    "labels = []\n",
    "\n",
    "for i in range(xi):\n",
    "   w = train_data[\"text\"][i].replace(\"¥n\", ' ')\n",
    "   w_list.append(w)\n",
    "   labels.append(train_data[\"target\"][i])"
   ]
  },
  {
   "cell_type": "code",
   "execution_count": 43,
   "id": "55df6aca",
   "metadata": {},
   "outputs": [],
   "source": [
    "import MeCab\n",
    "\n",
    "mecab = MeCab.Tagger(\"mecabrc\")\n",
    "\n",
    "def tokenize(text):\n",
    "   node = mecab.parseToNode(text)\n",
    "   while node:\n",
    "      if node.feature.split(',')[0] == '名詞':\n",
    "         yield node.surface.lower()\n",
    "      node = node.next\n",
    "      \n",
    "def get_words(contents):\n",
    "   ret = []\n",
    "   for content in contents:\n",
    "      ret.append(get_words_main(content))\n",
    "   return ret\n",
    "\n",
    "def get_words_main(content):\n",
    "   return [token for token in tokenize(content)]\n",
    "\n"
   ]
  },
  {
   "cell_type": "code",
   "execution_count": 49,
   "id": "29b5ca3d",
   "metadata": {},
   "outputs": [
    {
     "data": {
      "text/plain": [
       "['our',\n",
       " 'deeds',\n",
       " 'are',\n",
       " 'the',\n",
       " 'reason',\n",
       " 'of',\n",
       " 'this',\n",
       " '#',\n",
       " 'earthquake',\n",
       " 'may',\n",
       " 'allah',\n",
       " 'forgive',\n",
       " 'us',\n",
       " 'all']"
      ]
     },
     "execution_count": 49,
     "metadata": {},
     "output_type": "execute_result"
    }
   ],
   "source": [
    "words = get_words(w_list)\n",
    "words[0]"
   ]
  },
  {
   "cell_type": "code",
   "execution_count": 52,
   "id": "fcd3a9ea",
   "metadata": {},
   "outputs": [],
   "source": [
    "from gensim import corpora"
   ]
  },
  {
   "cell_type": "code",
   "execution_count": 53,
   "id": "aeda1587",
   "metadata": {},
   "outputs": [],
   "source": [
    "dictionary = corpora.Dictionary(words)\n",
    "dictionary.filter_extremes(no_below = 200, no_above = 0.2)\n",
    "#dictionary.save_as_text(\"./tmp/dictionary.txt\") で、作成した辞書を保存可能\n",
    "#dictionary = corpora.Dictionary.load_from_text(\"./tmp/dictionary.txt\") で読み込み\n",
    "courpus = [dictionary.doc2bow(word) for word in words]"
   ]
  },
  {
   "cell_type": "code",
   "execution_count": 69,
   "id": "535635ac",
   "metadata": {},
   "outputs": [],
   "source": [
    "label_list = [\"災害なし\", \"災害あり\"]"
   ]
  },
  {
   "cell_type": "code",
   "execution_count": 55,
   "id": "bd81c047",
   "metadata": {},
   "outputs": [],
   "source": [
    "from gensim import matutils\n",
    "\n",
    "def vec2dense(vec, num_terms):\n",
    "    return list(matutils.corpus2dense([vec], num_terms=num_terms).T[0])\n",
    "data_all = [vec2dense(dictionary.doc2bow(words[i]),len(dictionary)) for i in range(len(words))]"
   ]
  },
  {
   "cell_type": "code",
   "execution_count": 56,
   "id": "9ed97a4f",
   "metadata": {},
   "outputs": [
    {
     "data": {
      "text/plain": [
       "SVC(C=1)"
      ]
     },
     "execution_count": 56,
     "metadata": {},
     "output_type": "execute_result"
    }
   ],
   "source": [
    "from sklearn.model_selection import train_test_split\n",
    "from sklearn.preprocessing import StandardScaler\n",
    "from sklearn.svm import SVC\n",
    "\n",
    "#トレーニング・テストデータの設定\n",
    "train_data = data_all\n",
    "X_train, X_test, y_train, y_test = train_test_split(train_data, labels, test_size=0.4, random_state=1)\n",
    "\n",
    "#データの標準化\n",
    "sc = StandardScaler()\n",
    "sc.fit(X_train)\n",
    "X_train_std = sc.transform(X_train)\n",
    "X_test_std = sc.transform(X_test)\n",
    "\n",
    "#学習モデルの作成\n",
    "clf = SVC(C = 1, kernel = 'rbf')\n",
    "clf.fit(X_train_std, y_train)"
   ]
  },
  {
   "cell_type": "code",
   "execution_count": 57,
   "id": "d2a49627",
   "metadata": {},
   "outputs": [
    {
     "name": "stdout",
     "output_type": "stream",
     "text": [
      "0.687\n"
     ]
    }
   ],
   "source": [
    "score = clf.score(X_test_std, y_test)\n",
    "print(\"{:.3g}\".format(score))"
   ]
  },
  {
   "cell_type": "code",
   "execution_count": 58,
   "id": "276c5bd1",
   "metadata": {},
   "outputs": [],
   "source": [
    "test_data = pd.read_csv(\"./data/test.csv\")"
   ]
  },
  {
   "cell_type": "code",
   "execution_count": 60,
   "id": "8d0b43b6",
   "metadata": {},
   "outputs": [],
   "source": [
    "test_list = []\n",
    "test_doc = \"\"\n",
    "xti, yti = test_data.shape"
   ]
  },
  {
   "cell_type": "code",
   "execution_count": 61,
   "id": "7cffd11f",
   "metadata": {},
   "outputs": [],
   "source": [
    "for i in range(xti):\n",
    "   test_doc = test_data[\"text\"][i]\n",
    "   test_list.append(test_doc)"
   ]
  },
  {
   "cell_type": "code",
   "execution_count": 62,
   "id": "027e8dbe",
   "metadata": {},
   "outputs": [],
   "source": [
    "test_words = get_words(test_list)\n",
    "test_dense = [vec2dense(dictionary.doc2bow(test_words[i]),len(dictionary)) for i in range(len(test_words))]"
   ]
  },
  {
   "cell_type": "code",
   "execution_count": 74,
   "id": "1a46f3ac",
   "metadata": {},
   "outputs": [
    {
     "name": "stdout",
     "output_type": "stream",
     "text": [
      "0\n"
     ]
    }
   ],
   "source": [
    "predicted0 = clf.predict(test_dense)\n",
    "print(predicted0[0])"
   ]
  },
  {
   "cell_type": "code",
   "execution_count": 75,
   "id": "9822d619",
   "metadata": {
    "scrolled": true
   },
   "outputs": [],
   "source": [
    "data_f = pd.DataFrame(predicted0)"
   ]
  },
  {
   "cell_type": "code",
   "execution_count": 78,
   "id": "5dc7f032",
   "metadata": {},
   "outputs": [],
   "source": [
    "test_data[\"target\"] = data_f"
   ]
  },
  {
   "cell_type": "code",
   "execution_count": 81,
   "id": "ab82268d",
   "metadata": {},
   "outputs": [
    {
     "data": {
      "text/html": [
       "<div>\n",
       "<style scoped>\n",
       "    .dataframe tbody tr th:only-of-type {\n",
       "        vertical-align: middle;\n",
       "    }\n",
       "\n",
       "    .dataframe tbody tr th {\n",
       "        vertical-align: top;\n",
       "    }\n",
       "\n",
       "    .dataframe thead th {\n",
       "        text-align: right;\n",
       "    }\n",
       "</style>\n",
       "<table border=\"1\" class=\"dataframe\">\n",
       "  <thead>\n",
       "    <tr style=\"text-align: right;\">\n",
       "      <th></th>\n",
       "      <th>id</th>\n",
       "      <th>keyword</th>\n",
       "      <th>location</th>\n",
       "      <th>text</th>\n",
       "      <th>target</th>\n",
       "    </tr>\n",
       "  </thead>\n",
       "  <tbody>\n",
       "    <tr>\n",
       "      <th>0</th>\n",
       "      <td>0</td>\n",
       "      <td>NaN</td>\n",
       "      <td>NaN</td>\n",
       "      <td>Just happened a terrible car crash</td>\n",
       "      <td>0</td>\n",
       "    </tr>\n",
       "    <tr>\n",
       "      <th>1</th>\n",
       "      <td>2</td>\n",
       "      <td>NaN</td>\n",
       "      <td>NaN</td>\n",
       "      <td>Heard about #earthquake is different cities, s...</td>\n",
       "      <td>0</td>\n",
       "    </tr>\n",
       "    <tr>\n",
       "      <th>2</th>\n",
       "      <td>3</td>\n",
       "      <td>NaN</td>\n",
       "      <td>NaN</td>\n",
       "      <td>there is a forest fire at spot pond, geese are...</td>\n",
       "      <td>0</td>\n",
       "    </tr>\n",
       "    <tr>\n",
       "      <th>3</th>\n",
       "      <td>9</td>\n",
       "      <td>NaN</td>\n",
       "      <td>NaN</td>\n",
       "      <td>Apocalypse lighting. #Spokane #wildfires</td>\n",
       "      <td>0</td>\n",
       "    </tr>\n",
       "    <tr>\n",
       "      <th>4</th>\n",
       "      <td>11</td>\n",
       "      <td>NaN</td>\n",
       "      <td>NaN</td>\n",
       "      <td>Typhoon Soudelor kills 28 in China and Taiwan</td>\n",
       "      <td>0</td>\n",
       "    </tr>\n",
       "    <tr>\n",
       "      <th>5</th>\n",
       "      <td>12</td>\n",
       "      <td>NaN</td>\n",
       "      <td>NaN</td>\n",
       "      <td>We're shaking...It's an earthquake</td>\n",
       "      <td>0</td>\n",
       "    </tr>\n",
       "    <tr>\n",
       "      <th>6</th>\n",
       "      <td>21</td>\n",
       "      <td>NaN</td>\n",
       "      <td>NaN</td>\n",
       "      <td>They'd probably still show more life than Arse...</td>\n",
       "      <td>0</td>\n",
       "    </tr>\n",
       "    <tr>\n",
       "      <th>7</th>\n",
       "      <td>22</td>\n",
       "      <td>NaN</td>\n",
       "      <td>NaN</td>\n",
       "      <td>Hey! How are you?</td>\n",
       "      <td>0</td>\n",
       "    </tr>\n",
       "    <tr>\n",
       "      <th>8</th>\n",
       "      <td>27</td>\n",
       "      <td>NaN</td>\n",
       "      <td>NaN</td>\n",
       "      <td>What a nice hat?</td>\n",
       "      <td>0</td>\n",
       "    </tr>\n",
       "    <tr>\n",
       "      <th>9</th>\n",
       "      <td>29</td>\n",
       "      <td>NaN</td>\n",
       "      <td>NaN</td>\n",
       "      <td>Fuck off!</td>\n",
       "      <td>0</td>\n",
       "    </tr>\n",
       "    <tr>\n",
       "      <th>10</th>\n",
       "      <td>30</td>\n",
       "      <td>NaN</td>\n",
       "      <td>NaN</td>\n",
       "      <td>No I don't like cold!</td>\n",
       "      <td>0</td>\n",
       "    </tr>\n",
       "    <tr>\n",
       "      <th>11</th>\n",
       "      <td>35</td>\n",
       "      <td>NaN</td>\n",
       "      <td>NaN</td>\n",
       "      <td>NOOOOOOOOO! Don't do that!</td>\n",
       "      <td>0</td>\n",
       "    </tr>\n",
       "    <tr>\n",
       "      <th>12</th>\n",
       "      <td>42</td>\n",
       "      <td>NaN</td>\n",
       "      <td>NaN</td>\n",
       "      <td>No don't tell me that!</td>\n",
       "      <td>0</td>\n",
       "    </tr>\n",
       "    <tr>\n",
       "      <th>13</th>\n",
       "      <td>43</td>\n",
       "      <td>NaN</td>\n",
       "      <td>NaN</td>\n",
       "      <td>What if?!</td>\n",
       "      <td>0</td>\n",
       "    </tr>\n",
       "    <tr>\n",
       "      <th>14</th>\n",
       "      <td>45</td>\n",
       "      <td>NaN</td>\n",
       "      <td>NaN</td>\n",
       "      <td>Awesome!</td>\n",
       "      <td>0</td>\n",
       "    </tr>\n",
       "    <tr>\n",
       "      <th>15</th>\n",
       "      <td>46</td>\n",
       "      <td>ablaze</td>\n",
       "      <td>London</td>\n",
       "      <td>Birmingham Wholesale Market is ablaze BBC News...</td>\n",
       "      <td>1</td>\n",
       "    </tr>\n",
       "    <tr>\n",
       "      <th>16</th>\n",
       "      <td>47</td>\n",
       "      <td>ablaze</td>\n",
       "      <td>Niall's place | SAF 12 SQUAD |</td>\n",
       "      <td>@sunkxssedharry will you wear shorts for race ...</td>\n",
       "      <td>0</td>\n",
       "    </tr>\n",
       "    <tr>\n",
       "      <th>17</th>\n",
       "      <td>51</td>\n",
       "      <td>ablaze</td>\n",
       "      <td>NIGERIA</td>\n",
       "      <td>#PreviouslyOnDoyinTv: Toke MakinwaÛªs marriag...</td>\n",
       "      <td>1</td>\n",
       "    </tr>\n",
       "    <tr>\n",
       "      <th>18</th>\n",
       "      <td>58</td>\n",
       "      <td>ablaze</td>\n",
       "      <td>Live On Webcam</td>\n",
       "      <td>Check these out: http://t.co/rOI2NSmEJJ http:/...</td>\n",
       "      <td>1</td>\n",
       "    </tr>\n",
       "    <tr>\n",
       "      <th>19</th>\n",
       "      <td>60</td>\n",
       "      <td>ablaze</td>\n",
       "      <td>Los Angeles, Califnordia</td>\n",
       "      <td>PSA: IÛªm splitting my personalities.\\n\\n?? t...</td>\n",
       "      <td>0</td>\n",
       "    </tr>\n",
       "  </tbody>\n",
       "</table>\n",
       "</div>"
      ],
      "text/plain": [
       "    id keyword                        location  \\\n",
       "0    0     NaN                             NaN   \n",
       "1    2     NaN                             NaN   \n",
       "2    3     NaN                             NaN   \n",
       "3    9     NaN                             NaN   \n",
       "4   11     NaN                             NaN   \n",
       "5   12     NaN                             NaN   \n",
       "6   21     NaN                             NaN   \n",
       "7   22     NaN                             NaN   \n",
       "8   27     NaN                             NaN   \n",
       "9   29     NaN                             NaN   \n",
       "10  30     NaN                             NaN   \n",
       "11  35     NaN                             NaN   \n",
       "12  42     NaN                             NaN   \n",
       "13  43     NaN                             NaN   \n",
       "14  45     NaN                             NaN   \n",
       "15  46  ablaze                          London   \n",
       "16  47  ablaze  Niall's place | SAF 12 SQUAD |   \n",
       "17  51  ablaze                         NIGERIA   \n",
       "18  58  ablaze                  Live On Webcam   \n",
       "19  60  ablaze        Los Angeles, Califnordia   \n",
       "\n",
       "                                                 text  target  \n",
       "0                  Just happened a terrible car crash       0  \n",
       "1   Heard about #earthquake is different cities, s...       0  \n",
       "2   there is a forest fire at spot pond, geese are...       0  \n",
       "3            Apocalypse lighting. #Spokane #wildfires       0  \n",
       "4       Typhoon Soudelor kills 28 in China and Taiwan       0  \n",
       "5                  We're shaking...It's an earthquake       0  \n",
       "6   They'd probably still show more life than Arse...       0  \n",
       "7                                   Hey! How are you?       0  \n",
       "8                                    What a nice hat?       0  \n",
       "9                                           Fuck off!       0  \n",
       "10                              No I don't like cold!       0  \n",
       "11                         NOOOOOOOOO! Don't do that!       0  \n",
       "12                             No don't tell me that!       0  \n",
       "13                                          What if?!       0  \n",
       "14                                           Awesome!       0  \n",
       "15  Birmingham Wholesale Market is ablaze BBC News...       1  \n",
       "16  @sunkxssedharry will you wear shorts for race ...       0  \n",
       "17  #PreviouslyOnDoyinTv: Toke MakinwaÛªs marriag...       1  \n",
       "18  Check these out: http://t.co/rOI2NSmEJJ http:/...       1  \n",
       "19  PSA: IÛªm splitting my personalities.\\n\\n?? t...       0  "
      ]
     },
     "execution_count": 81,
     "metadata": {},
     "output_type": "execute_result"
    }
   ],
   "source": [
    "test_data.head(20)"
   ]
  },
  {
   "cell_type": "code",
   "execution_count": 85,
   "id": "d912aac5",
   "metadata": {},
   "outputs": [],
   "source": [
    "submit_data = pd.read_csv(\"./data/sample_submission.csv\")"
   ]
  },
  {
   "cell_type": "code",
   "execution_count": null,
   "id": "a13e713c",
   "metadata": {},
   "outputs": [],
   "source": []
  }
 ],
 "metadata": {
  "kernelspec": {
   "display_name": "Python 3",
   "language": "python",
   "name": "python3"
  },
  "language_info": {
   "codemirror_mode": {
    "name": "ipython",
    "version": 3
   },
   "file_extension": ".py",
   "mimetype": "text/x-python",
   "name": "python",
   "nbconvert_exporter": "python",
   "pygments_lexer": "ipython3",
   "version": "3.8.1"
  }
 },
 "nbformat": 4,
 "nbformat_minor": 5
}
